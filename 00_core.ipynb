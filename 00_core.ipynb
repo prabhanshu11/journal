{
 "cells": [
  {
   "cell_type": "code",
   "execution_count": null,
   "metadata": {},
   "outputs": [],
   "source": [
    "# default_exp core"
   ]
  },
  {
   "cell_type": "markdown",
   "metadata": {},
   "source": [
    "# Journal\n",
    "\n",
    "1. If the the app is opened first time in the day \n",
    "\n",
    "> Ask the **essentials** i.e sleep, food, mind, body\n",
    "\n",
    "> 5mj questions\n",
    "\n",
    "> Show a list of tasks from distraction journal\n",
    "\n",
    "> Compile a task list for today. \n",
    "\n",
    "2. Then continue running the app on **distraction journal** mode, if the app is closed and started any time but the first time, start this mode.\n",
    "\n",
    "3. **keep an option** in distraction mode, if you are about to sign out for the day, in that case, ask **day review** questions and rest of the 5mj questions.\n"
   ]
  },
  {
   "cell_type": "code",
   "execution_count": null,
   "metadata": {},
   "outputs": [],
   "source": [
    "#hide\n",
    "from nbdev.showdoc import *"
   ]
  },
  {
   "cell_type": "code",
   "execution_count": null,
   "metadata": {},
   "outputs": [],
   "source": [
    "#export\n",
    "from datetime import datetime, date, time, timedelta\n",
    "import re\n",
    "\n",
    "from Journal.tasks import *\n",
    "from Journal.questions import *"
   ]
  },
  {
   "cell_type": "markdown",
   "metadata": {},
   "source": [
    "Wild import is required as \n",
    "`import Journal.tasks` \n",
    "is **not** renamed to\n",
    "`import tasks`\n",
    "using the `relative_import` function of nbdev.\n",
    "\n",
    "`from Journal.tasks import *` gets renamed to \n",
    "`from tasks import *`"
   ]
  },
  {
   "cell_type": "code",
   "execution_count": null,
   "metadata": {},
   "outputs": [],
   "source": [
    "slpt_at = '0530'"
   ]
  },
  {
   "cell_type": "code",
   "execution_count": null,
   "metadata": {},
   "outputs": [
    {
     "data": {
      "text/plain": [
       "'Wed May 27 05:30:00 2020'"
      ]
     },
     "execution_count": null,
     "metadata": {},
     "output_type": "execute_result"
    }
   ],
   "source": [
    "#xport\n",
    "d = date.today() - timedelta(days=1)\n",
    "t = datetime.strptime(slpt_at, \"%H%M\").time()\n",
    "datetime.combine(d,t).ctime()"
   ]
  },
  {
   "cell_type": "code",
   "execution_count": null,
   "metadata": {},
   "outputs": [
    {
     "data": {
      "text/plain": [
       "'Thu May 21 05:30:00 2020'"
      ]
     },
     "execution_count": null,
     "metadata": {},
     "output_type": "execute_result"
    }
   ],
   "source": [
    "\n",
    "#d = date.today() - timedelta(days=1)\n",
    "t = datetime.strptime(slpt_at, \"%H%M\").time()\n",
    "datetime.combine(d,t).ctime()"
   ]
  },
  {
   "cell_type": "code",
   "execution_count": null,
   "metadata": {},
   "outputs": [
    {
     "data": {
      "text/plain": [
       "\u001b[0;31mInit signature:\u001b[0m \u001b[0mdatetime\u001b[0m\u001b[0;34m(\u001b[0m\u001b[0mself\u001b[0m\u001b[0;34m,\u001b[0m \u001b[0;34m/\u001b[0m\u001b[0;34m,\u001b[0m \u001b[0;34m*\u001b[0m\u001b[0margs\u001b[0m\u001b[0;34m,\u001b[0m \u001b[0;34m**\u001b[0m\u001b[0mkwargs\u001b[0m\u001b[0;34m)\u001b[0m\u001b[0;34m\u001b[0m\u001b[0;34m\u001b[0m\u001b[0m\n",
       "\u001b[0;31mDocstring:\u001b[0m     \n",
       "datetime(year, month, day[, hour[, minute[, second[, microsecond[,tzinfo]]]]])\n",
       "\n",
       "The year, month and day arguments are required. tzinfo may be None, or an\n",
       "instance of a tzinfo subclass. The remaining arguments may be ints.\n",
       "\u001b[0;31mFile:\u001b[0m           ~/anaconda3/lib/python3.7/datetime.py\n",
       "\u001b[0;31mType:\u001b[0m           type\n",
       "\u001b[0;31mSubclasses:\u001b[0m     \n"
      ]
     },
     "metadata": {},
     "output_type": "display_data"
    }
   ],
   "source": [
    "datetime?"
   ]
  },
  {
   "cell_type": "code",
   "execution_count": null,
   "metadata": {},
   "outputs": [
    {
     "name": "stdout",
     "output_type": "stream",
     "text": [
      "Converted 00_core.ipynb.\n",
      "Converted 01_Tasks.ipynb.\n",
      "Converted 02_questions.ipynb.\n",
      "Converted 03_tests.ipynb.\n",
      "Converted 04_summary image.ipynb.\n",
      "Converted 11_Tasks.ipynb.\n",
      "Converted index.ipynb.\n"
     ]
    }
   ],
   "source": [
    "from nbdev.export import *\n",
    "notebook2script()"
   ]
  }
 ],
 "metadata": {
  "kernelspec": {
   "display_name": "Python 3 (ipykernel)",
   "language": "python",
   "name": "python3"
  },
  "language_info": {
   "codemirror_mode": {
    "name": "ipython",
    "version": 3
   },
   "file_extension": ".py",
   "mimetype": "text/x-python",
   "name": "python",
   "nbconvert_exporter": "python",
   "pygments_lexer": "ipython3",
   "version": "3.7.12"
  }
 },
 "nbformat": 4,
 "nbformat_minor": 4
}
