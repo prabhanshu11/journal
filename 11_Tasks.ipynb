{
 "cells": [
  {
   "cell_type": "code",
   "execution_count": null,
   "metadata": {},
   "outputs": [],
   "source": [
    "# default_exp tasks_new"
   ]
  },
  {
   "cell_type": "code",
   "execution_count": null,
   "metadata": {},
   "outputs": [],
   "source": [
    "#hide\n",
    "from nbdev.showdoc import *"
   ]
  },
  {
   "cell_type": "markdown",
   "metadata": {},
   "source": [
    "# Tasks class and its data management\n",
    "\n",
    "## First Session \n",
    "#### **Condition:** If there are no entries in the 'essentials' for today in db\n",
    "\n",
    "1. Ask **some** of the **essentials** and **5mj** Qs and write it on the db.\n",
    "\n",
    "1. **Today's** task list compilation by reading todays entry on db.\n",
    "    1. Compile a task list for today by:\n",
    "         1. checking for any previously scheduled tasks in today's entry.\n",
    "         2. reading the distraction journal and applying Task class.\n",
    "         3. reading and checking if today is part of any of the reminders' scope.\n",
    "         4. asking if any of the **actions** questions in 5mj are to coverted into task.\n",
    "\n",
    "## Mid Session\n",
    "1. Then continue running the app on **distraction journal** mode, if the app is closed and started any time but the first time, start this mode. Keep saving the entries persistently.\n",
    "    > \n",
    "1. **Keep an option** in distraction mode, if you are about to sign out for the day, in that case, ask **day review** questions and rest of the 5mj questions.\n",
    "\n",
    "## Last Session\n",
    "#### **Condition:** From the distraction mode\n",
    "1. During *last questions*, ask the \n",
    "   1. **essentials** and store it in that day's entry\n",
    "   2. Ask rest of of 5mj questions\n",
    "       1. Check if any of the strings from \"actions\" question had been converted into tasks and if yes, add a 'completed' tag.\n",
    "       2. And store it in that day's entry\n",
    "       \n",
    "## I/O of Task and database classes\n",
    "Task object will have following outputs: \n",
    "1. `.toDB` for database files.\n",
    "1. `__str__` for app.\n",
    "1. `.toJournal` for evernote.\n",
    "1. `.toPhoto` for photo.\n",
    "\n",
    "**STEPS**\n",
    "1. Find \"date(today)\"\n",
    "1. Goto \"tasks\" area\n",
    "1. Find the tag for any scheduled tasks.\n",
    "1. Ask user today's questions, referencing previous material by using dates as tags\n",
    "1. Populate Tasks class when doing this. Write whatever data on the database.\n",
    "1. \"Day\" class can handle lists of \"Task\" and others."
   ]
  },
  {
   "cell_type": "code",
   "execution_count": null,
   "metadata": {},
   "outputs": [],
   "source": [
    "#export\n",
    "#from Journal.tasks import *\n",
    "from Journal.questions import *\n",
    "from datetime import datetime, date, time, timedelta\n",
    "import re, math, json\n",
    "from typing import *\n",
    "from dataclasses import dataclass, field\n",
    "# from yaml import load, dump\n",
    "# try:\n",
    "#     from yaml import CLoader as Loader, CDumper as Dumper\n",
    "# except ImportError:\n",
    "#     from yaml import Loader, Dumper"
   ]
  },
  {
   "cell_type": "code",
   "execution_count": null,
   "metadata": {},
   "outputs": [],
   "source": [
    "#export\n",
    "time_abbreviation = {'d':'days',\n",
    "                     'h':'hours', \n",
    "                     'w':'weeks',\n",
    "                     'm':'minutes'}\n",
    "\n",
    "def str2timeDelta(string):\n",
    "    \n",
    "    pattern = re.compile(r\"\"\"\n",
    "    (\\d+\\.*\\d*)    # Any real numbers --> Digit decimal digit(optional)\n",
    "    \\s?            # To handle space\n",
    "    ([hmsdw][o]?)  # Any of h, m... 'o' is to diff b/w m[in] and m[onth]\n",
    "    \"\"\", re.VERBOSE)                         #REMEMBER: To add functionality for month later.\n",
    "    args_as_tuples_in_list = re.findall(pattern, string)\n",
    "    kwargs = {time_abbreviation.get(arg_tuple[1]) : float(arg_tuple[0]) \n",
    "              for arg_tuple in args_as_tuples_in_list}\n",
    "    return timedelta(**kwargs)"
   ]
  },
  {
   "cell_type": "code",
   "execution_count": null,
   "metadata": {},
   "outputs": [],
   "source": [
    "#export\n",
    "def sensible_date2str(x: datetime.date) -> str:\n",
    "    \"\"\"\n",
    "    Returns string of the form:\n",
    "    '15-Dec-2012    [Saturday]' \n",
    "    \"\"\"\n",
    "#     if x.strftime(\"%d\")[0] == '1': return x.strftime(\"%A %-dth %B %Y\")\n",
    "#     elif x.strftime(\"%d\")[-1] == '1': return x.strftime(\"%A %-dst %B %Y\")\n",
    "#     elif x.strftime(\"%d\")[-1] == '2': return x.strftime(\"%A %-dnd %B %Y\")\n",
    "#     elif x.strftime(\"%d\")[-1] == '3': return x.strftime(\"%A %-drd %B %Y\")\n",
    "#     else : return x.strftime(\"%A %-dth %B %Y\")\n",
    "    return x.strftime(\"%d-%b-%Y    [%A]\")\n",
    "def sensible_str2date(x: str, case=0) -> datetime.date:\n",
    "    \"\"\"\n",
    "    Takes string of the form:\n",
    "    case 0 --> '15-Dec-2012' [default]\n",
    "    case 1 --> '15-12-2012'\n",
    "    \"\"\"\n",
    "    if case==0: x = datetime.strptime(x,'%d-%b-%Y')\n",
    "    if case==1: x = datetime.strptime(x,'%d-%m-%Y')\n",
    "    return x.date()"
   ]
  },
  {
   "cell_type": "code",
   "execution_count": null,
   "metadata": {},
   "outputs": [],
   "source": [
    "#export \n",
    "def task_scheduler():\n",
    "    \"\"\"\n",
    "    Ask the user for a date string and then convert it into datetime.date \n",
    "    object.\n",
    "    \"\"\"\n",
    "    print(f\"When should be this on your task list. \\n\")\n",
    "    print(f\"Press enter to add it on today's list. Today is {date.today()}\")\n",
    "    print(f\"You can enter the date in the format of today's date printed above.\")\n",
    "    print(f'Or you can answer in relative terms. Eg: 10w, 5d (only weeks and days supported)')\n",
    "    date_string = input()\n",
    "    pattern_for_isodate = re.compile(r'\\d{4}-\\d{2}-\\d{2}')\n",
    "    \n",
    "    if not date_string: # replaced if '' in date_string: , to prevent bug and also empty strings are falsy\n",
    "        strt_Date = date.today()        \n",
    "    elif re.match(pattern_for_isodate, date_string):\n",
    "        strt_Date = date.fromisoformat(date_string)        \n",
    "    else:\n",
    "        strt_Date = date.today() + str2timeDelta(date_string)\n",
    "        \n",
    "    return strt_Date"
   ]
  },
  {
   "cell_type": "code",
   "execution_count": null,
   "metadata": {},
   "outputs": [],
   "source": [
    "#export\n",
    "def estimated_time():\n",
    "    print(f'How much time do you think this would take ?')\n",
    "    t = input(\"Eg: '45m', '1h'\")\n",
    "    estd_Time = str2timeDelta(t)\n",
    "    return estd_Time\n",
    "\n",
    "def actual_time(task_tuple):\n",
    "    print(f'You thought you would take {task_tuple.Estd_Time}. How much time did you actually take ?')\n",
    "    t = input(\"Eg: '45m', '1h'\")\n",
    "    task_tuple = task_tuple._replace( Time_Takn = str2timeDelta(t) )\n",
    "    return task_tuple\n",
    "\n",
    "def satisfaction(task_tuple):\n",
    "    print(\"On a scale of 1-10, how much satisfied do you about the effort you put into this task ?\")\n",
    "    s = float(input())\n",
    "    task_tuple = task_tuple._replace( Satsfactn = s)\n",
    "    if task_tuple.completed == 1: \n",
    "        task_tuple = task_tuple._replace( CompDate = date.today() ) \n",
    "    return task_tuple\n"
   ]
  },
  {
   "cell_type": "code",
   "execution_count": null,
   "metadata": {},
   "outputs": [],
   "source": [
    "@dataclass\n",
    "class Task():    \n",
    "    task: str\n",
    "    day: int = 1\n",
    "    estd_time = None\n",
    "    actual_time: timedelta = timedelta(0)\n",
    "    notes: str = None\n",
    "    satisfaction_on_effort: int = 0\n",
    "    prev_date: date = None\n",
    "    next_date: date = date.today() + timedelta(days=1)\n",
    "    completed: bool = False    \n",
    "    if completed == True:\n",
    "        satisfaction: int = 0        \n",
    "            \n",
    "    def __str__(self):        \n",
    "        string = (f'{self.task}', \n",
    "                  f'Day = {self.day}    Complete = {self.completed}',\n",
    "                  f'Satisfaction = {self.satisfaction_on_effort}',\n",
    "                  f'Time\\n    Estimated = {self.estd_time}',\n",
    "                  f'\\tActual = {self.actual_time}',\n",
    "                  f'Date',\n",
    "                  f\"\\t{(lambda x: f'Previous = {x}' if x != None else '')(self.prev_date)}\",\n",
    "                  f'\\tNext = {self.next_date}',\n",
    "                  f'Additional Notes:\\n    {self.notes}')\n",
    "        return '\\n'.join(string)\n",
    "    \n",
    "    @classmethod\n",
    "    def morning(cls):\n",
    "        task = input('Enter the task\\n')\n",
    "        estd_time = input('How much time do you think this would take?\\n')\n",
    "        notes = input('Any additional notes you would like to add?\\n')\n",
    "        return cls(task=task, estd_time=estd_time, notes=notes)\n",
    "    \n",
    " \n",
    "\n",
    "@dataclass            \n",
    "class Day():    \n",
    "    date: date\n",
    "    tasks: List['Task'] = field(default_factory=list)\n",
    "    essentials: dict = field(default_factory=dict)\n",
    "    mj: dict = field(default_factory=dict)\n",
    "    \n",
    "  #  def __post_init__():\n",
    "        \n",
    "    \n",
    "    def toDB(self):\n",
    "        with shelve.open('database') as database:\n",
    "            database[self.date.isoformat()] = self\n",
    "\n",
    "    @classmethod\n",
    "    def fromDB(cls, date):\n",
    "        with shelve.open('database') as db:\n",
    "            d = db[date.isoformat()]            \n",
    "        return cls(d.date, d.tasks, d.essentials, d.mj)\n",
    "\n",
    "class Distraction():\n",
    "    \n",
    "    def save(*string):\n",
    "        entries = {}\n",
    "        try: entries = pickle.load(open('distraction.pkl', 'rb'))\n",
    "        except FileNotFoundError: pass                                    \n",
    "        finally:\n",
    "            with open('distraction.pkl', 'wb') as f:\n",
    "                _ = [entries.setdefault(i,datetime.datetime.now()) for i in string]\n",
    "                pickle.dump(entries,f)\n",
    "\n",
    "    def retrieve():\n",
    "        try: entries = pickle.load(open('distraction.pkl', 'rb'))\n",
    "        except FileNotFoundError: entries = {'--no-distractions--':None}\n",
    "        return entries\n",
    "    \n",
    "    def delete(*string):\n",
    "        entries = Distraction.retrieve()\n",
    "        _ = [entries.pop(i) for i in string]\n",
    "        with open('distraction.pkl', 'wb') as f: pickle.dump(entries,f)\n",
    "        \n",
    "    def delete_by_user_input():\n",
    "        serial_no = input('Which one would you like to delete?\\n')\n",
    "        for index, key in enumerate(Distraction.retrieve()):\n",
    "            if serial_no == index+1: break\n",
    "        Distraction.delete(key)\n"
   ]
  },
  {
   "cell_type": "code",
   "execution_count": null,
   "metadata": {},
   "outputs": [
    {
     "ename": "TypeError",
     "evalue": "'int' object is not subscriptable",
     "output_type": "error",
     "traceback": [
      "\u001b[0;31m---------------------------------------------------------------------------\u001b[0m",
      "\u001b[0;31mTypeError\u001b[0m                                 Traceback (most recent call last)",
      "\u001b[0;32m<ipython-input-12-336132cfd8ac>\u001b[0m in \u001b[0;36m<module>\u001b[0;34m\u001b[0m\n\u001b[1;32m      1\u001b[0m \u001b[0mx\u001b[0m \u001b[0;34m=\u001b[0m \u001b[0;34m'Comlete problem 7 on Hacker rank'\u001b[0m\u001b[0;34m\u001b[0m\u001b[0;34m\u001b[0m\u001b[0m\n\u001b[1;32m      2\u001b[0m \u001b[0mt\u001b[0m \u001b[0;34m=\u001b[0m \u001b[0mTask\u001b[0m\u001b[0;34m(\u001b[0m\u001b[0mx\u001b[0m\u001b[0;34m)\u001b[0m\u001b[0;34m\u001b[0m\u001b[0;34m\u001b[0m\u001b[0m\n\u001b[0;32m----> 3\u001b[0;31m \u001b[0mt\u001b[0m\u001b[0;34m.\u001b[0m\u001b[0mday\u001b[0m\u001b[0;34m[\u001b[0m\u001b[0;36m0\u001b[0m\u001b[0;34m]\u001b[0m\u001b[0;34m.\u001b[0m\u001b[0mestd_time\u001b[0m \u001b[0;34m=\u001b[0m \u001b[0mstr2timeDelta\u001b[0m\u001b[0;34m(\u001b[0m\u001b[0;34m'1h'\u001b[0m\u001b[0;34m)\u001b[0m\u001b[0;34m\u001b[0m\u001b[0;34m\u001b[0m\u001b[0m\n\u001b[0m\u001b[1;32m      4\u001b[0m \u001b[0mt\u001b[0m\u001b[0;34m.\u001b[0m\u001b[0mday\u001b[0m\u001b[0;34m.\u001b[0m\u001b[0mappend\u001b[0m\u001b[0;34m(\u001b[0m\u001b[0mstr2timeDelta\u001b[0m\u001b[0;34m(\u001b[0m\u001b[0;34m'15m'\u001b[0m\u001b[0;34m)\u001b[0m\u001b[0;34m)\u001b[0m\u001b[0;34m\u001b[0m\u001b[0;34m\u001b[0m\u001b[0m\n",
      "\u001b[0;31mTypeError\u001b[0m: 'int' object is not subscriptable"
     ]
    }
   ],
   "source": [
    "x = 'Comlete problem 7 on Hacker rank'\n",
    "t = Task(x)\n",
    "t.day[0].estd_time = str2timeDelta('1h')\n",
    "t.day.append(str2timeDelta('15m'))"
   ]
  },
  {
   "cell_type": "code",
   "execution_count": null,
   "metadata": {},
   "outputs": [
    {
     "ename": "NameError",
     "evalue": "name 'TaskDtaBaseManagmntSystm' is not defined",
     "output_type": "error",
     "traceback": [
      "\u001b[0;31m---------------------------------------------------------------------------\u001b[0m",
      "\u001b[0;31mNameError\u001b[0m                                 Traceback (most recent call last)",
      "\u001b[0;32m<ipython-input-13-50cbb4d4b5ab>\u001b[0m in \u001b[0;36m<module>\u001b[0;34m\u001b[0m\n\u001b[0;32m----> 1\u001b[0;31m \u001b[0mttt\u001b[0m \u001b[0;34m=\u001b[0m \u001b[0mTaskDtaBaseManagmntSystm\u001b[0m\u001b[0;34m(\u001b[0m\u001b[0mt\u001b[0m\u001b[0;34m)\u001b[0m\u001b[0;34m;\u001b[0m\u001b[0;34m\u001b[0m\u001b[0;34m\u001b[0m\u001b[0m\n\u001b[0m\u001b[1;32m      2\u001b[0m \u001b[0mttt\u001b[0m\u001b[0;34m.\u001b[0m\u001b[0mgetvars\u001b[0m\u001b[0;34m(\u001b[0m\u001b[0;34m)\u001b[0m\u001b[0;34m\u001b[0m\u001b[0;34m\u001b[0m\u001b[0m\n",
      "\u001b[0;31mNameError\u001b[0m: name 'TaskDtaBaseManagmntSystm' is not defined"
     ]
    }
   ],
   "source": [
    "ttt = TaskDtaBaseManagmntSystm(t);\n",
    "ttt.getvars()"
   ]
  },
  {
   "cell_type": "code",
   "execution_count": null,
   "metadata": {},
   "outputs": [],
   "source": []
  },
  {
   "cell_type": "code",
   "execution_count": null,
   "metadata": {},
   "outputs": [],
   "source": [
    "import math\n",
    "class Circle(object):\n",
    "    def __init__(self,radius,b):\n",
    "        self.radius = radius\n",
    "        self.b = b\n",
    "    def area(self):\n",
    "        return 3.1415 * self.radius**2,self.b\n",
    "    \n",
    "    def perimeter(self):\n",
    "        return 2.0*math.pi*self.radius\n",
    "    \n",
    "    @classmethod\n",
    "    def from_bbd(cls, bbd, b):\n",
    "        radius = bbd/2.0/math.sqrt(2.0)\n",
    "        return cls(radius,b)\n",
    "    \n",
    "    @staticmethod\n",
    "    def angle_to_grade(angle):\n",
    "        return math.tan(math.radians(angle))*100.0"
   ]
  },
  {
   "cell_type": "code",
   "execution_count": null,
   "metadata": {},
   "outputs": [],
   "source": [
    "c = Circle.from_bbd(4,'.')\n",
    "c.area()"
   ]
  },
  {
   "cell_type": "code",
   "execution_count": null,
   "metadata": {},
   "outputs": [],
   "source": [
    "c = Circle.from_bbd(4)\n",
    "d = Circle(4)\n",
    "print(f\"\"\"\n",
    "{c.area(), c.perimeter()}\n",
    "{d.area(), d.perimeter()}\n",
    "\"\"\")"
   ]
  },
  {
   "cell_type": "code",
   "execution_count": null,
   "metadata": {},
   "outputs": [],
   "source": [
    "class Tire(Circle):\n",
    "    def perimeter(self):\n",
    "        return Circle.perimeter(self) * 1.25\n",
    "t = Tire(4)\n",
    "t.area(), t.perimeter()"
   ]
  },
  {
   "cell_type": "code",
   "execution_count": null,
   "metadata": {},
   "outputs": [],
   "source": [
    "u = Tire.from_bbd(4)\n",
    "u.area(), u.perimeter()"
   ]
  },
  {
   "cell_type": "code",
   "execution_count": null,
   "metadata": {},
   "outputs": [],
   "source": [
    "a = Circle.angle_to_grade(4);a"
   ]
  },
  {
   "cell_type": "code",
   "execution_count": null,
   "metadata": {},
   "outputs": [],
   "source": [
    "x = 'this is the ace cold'\n",
    "print(f\"Notes: {x.rjust(30)}\")"
   ]
  },
  {
   "cell_type": "code",
   "execution_count": null,
   "metadata": {},
   "outputs": [
    {
     "data": {
      "text/plain": [
       "{'str1': datetime.datetime(2020, 7, 21, 6, 2, 35, 204231),\n",
       " 'str2': datetime.datetime(2020, 7, 21, 6, 2, 35, 204240),\n",
       " 'str3': datetime.datetime(2020, 7, 21, 6, 2, 35, 204243)}"
      ]
     },
     "execution_count": null,
     "metadata": {},
     "output_type": "execute_result"
    }
   ],
   "source": [
    "import datetime, pickle\n",
    "from dataclasses import dataclass, field\n",
    "entries = {}\n",
    "distractions = ['str1', 'str2', 'str3']\n",
    "for i in distractions:\n",
    "    entries.setdefault(i, datetime.datetime.now())\n",
    "entries"
   ]
  },
  {
   "cell_type": "code",
   "execution_count": null,
   "metadata": {},
   "outputs": [],
   "source": [
    "x  =datetime.datetime.now()"
   ]
  },
  {
   "cell_type": "code",
   "execution_count": null,
   "metadata": {},
   "outputs": [
    {
     "name": "stdout",
     "output_type": "stream",
     "text": [
      "{'str1': datetime.datetime(2020, 7, 20, 20, 41, 29, 227965), 'str2': datetime.datetime(2020, 7, 20, 20, 41, 29, 227974), 'str3': datetime.datetime(2020, 7, 20, 20, 41, 29, 227975)}\n"
     ]
    }
   ],
   "source": [
    "with open('distraction.pkl','rb') as f:\n",
    "    print(pickle.load(f))"
   ]
  },
  {
   "cell_type": "code",
   "execution_count": null,
   "metadata": {},
   "outputs": [],
   "source": [
    "Distraction.save('ab')"
   ]
  },
  {
   "cell_type": "code",
   "execution_count": null,
   "metadata": {},
   "outputs": [
    {
     "data": {
      "text/plain": [
       "['sample', 'sample', 'sample', 'ab', 'sample', 'ab', 'sample', 'ab']"
      ]
     },
     "execution_count": null,
     "metadata": {},
     "output_type": "execute_result"
    }
   ],
   "source": [
    "Distraction.show()"
   ]
  }
 ],
 "metadata": {
  "kernelspec": {
   "display_name": "Python 3",
   "language": "python",
   "name": "python3"
  }
 },
 "nbformat": 4,
 "nbformat_minor": 4
}
