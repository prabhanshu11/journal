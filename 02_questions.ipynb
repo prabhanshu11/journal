{
 "cells": [
  {
   "cell_type": "code",
   "execution_count": null,
   "metadata": {},
   "outputs": [],
   "source": [
    "# default_exp questions"
   ]
  },
  {
   "cell_type": "code",
   "execution_count": null,
   "metadata": {},
   "outputs": [],
   "source": [
    "#hide\n",
    "from nbdev.showdoc import *"
   ]
  },
  {
   "cell_type": "code",
   "execution_count": null,
   "metadata": {},
   "outputs": [],
   "source": [
    "#export\n",
    "import sys\n",
    "from os import system, name "
   ]
  },
  {
   "cell_type": "code",
   "execution_count": null,
   "metadata": {},
   "outputs": [],
   "source": [
    "#export\n",
    "def multi_input():\n",
    "    try:\n",
    "        while True:\n",
    "            data=input()\n",
    "            if not data: break\n",
    "            yield data\n",
    "    except KeyboardInterrupt:\n",
    "        return\n",
    "\n",
    "#use list(multi_input)\n",
    "\n",
    "def clear_screen(): \n",
    "  \n",
    "    # for windows \n",
    "    if name == 'nt': \n",
    "        _ = system('cls') \n",
    "  \n",
    "    # for mac and linux(here, os.name is 'posix') \n",
    "    else: \n",
    "        _ = system('clear') \n",
    "\n",
    "def enumerator(l: 'list of str'):\n",
    "    for index, item in enumerate(l):\n",
    "        print(f'[{index}] {item.capitalize()}')\n",
    "    "
   ]
  },
  {
   "cell_type": "code",
   "execution_count": null,
   "metadata": {},
   "outputs": [],
   "source": [
    "#export\n",
    "def essentials():\n",
    "    #introduction\n",
    "    print(\n",
    "        \"\"\" \n",
    "    Fill this up to hopeless fuck !!\n",
    "    Take care of the following instructions, don't screw this up !\n",
    "    Time in 24hr format. Eg: '1500' for 03:00 PM\n",
    "    Duration in <Number><identifier>. Eg: '35m', '5h', '4d'\n",
    "        \"\"\"\n",
    "         )\n",
    "    \n",
    "    # Q 1 Sleep\n",
    "    slpt_at = input(\"When did you sleep ?\\n\")\n",
    "    woke_at = input(\"When did you wake up ?\\n\")\n",
    "    \n",
    "    # Q 2 Food\n",
    "    print(\"\"\"When did you take your meals and for how long ?\n",
    "    Include the timepass you did after eating.\n",
    "    Eg:\n",
    "    0730\n",
    "    35m\n",
    "    1600\n",
    "    1h\n",
    "    \"\"\")\n",
    "    meals = list(multi_input())\n",
    "    \n",
    "    # Q 3 Mind\n",
    "    print(\"\"\"If and when did you meditate and for how long ?\n",
    "    Press Enter if you didn't meditate. You can add an entry\n",
    "    if you are going to meditate right now, but add it only\n",
    "    after the session is over.\n",
    "    Eg:\n",
    "    0300\n",
    "    10m\n",
    "    \"\"\")\n",
    "    meditate = list(multi_input())\n",
    "    # add if required: mditate.append(input(\"On a scale of 1-10 . . .  \\n\")) \n",
    "    meditate_notes = input(\"Enter any additional notes\\n\")\n",
    "    \n",
    "    # Q 4 Body\n",
    "    print(\"\"\"If and when did you exercise and for how long ?\n",
    "    Press Enter if you didn't.\n",
    "    Also enter the total number of reps for legs, core and upper respectively.\n",
    "    Eg:\n",
    "    0300\n",
    "    10m\n",
    "    0 \n",
    "    0\n",
    "    2\n",
    "    \"\"\")\n",
    "    exercise = list(multi_input())\n",
    "    exercise_notes = input(\"Enter any additional notes\\n\")\n",
    "    \n",
    "    clear_screen()\n",
    "    print('\\nWell this completes the essentials.')\n",
    "    print('Now lets get to the questions Work\\n\\n')\n",
    "    \n",
    "    return locals() #implement something more predictable later"
   ]
  },
  {
   "cell_type": "code",
   "execution_count": null,
   "metadata": {},
   "outputs": [
    {
     "name": "stdout",
     "output_type": "stream",
     "text": [
      " \n",
      "    Fill this up to hopeless fuck !!\n",
      "    Take care of the following instructions, don't screw this up !\n",
      "    Time in 24hr format. Eg: '1500' for 03:00 PM\n",
      "    Duration in <Number><identifier>. Eg: '35m', '5h', '4d'\n",
      "        \n"
     ]
    },
    {
     "name": "stdin",
     "output_type": "stream",
     "text": [
      "When did you sleep ?\n",
      " 1500\n",
      "When did you wake up ?\n",
      " 2000\n"
     ]
    },
    {
     "name": "stdout",
     "output_type": "stream",
     "text": [
      "When did you take your meals and for how long ?\n",
      "    Include the timepass you did after eating.\n",
      "    Eg:\n",
      "    0730\n",
      "    35m\n",
      "    1600\n",
      "    1h\n",
      "    \n"
     ]
    },
    {
     "name": "stdin",
     "output_type": "stream",
     "text": [
      " 0730\n",
      " 35m\n",
      " \n"
     ]
    },
    {
     "name": "stdout",
     "output_type": "stream",
     "text": [
      "If and when did you meditate and for how long ?\n",
      "    Press Enter if you didn't meditate. You can add an entry\n",
      "    if you are going to meditate right now, but add it only\n",
      "    after the session is over.\n",
      "    Eg:\n",
      "    0300\n",
      "    10m\n",
      "    \n"
     ]
    },
    {
     "name": "stdin",
     "output_type": "stream",
     "text": [
      " 0300\n",
      " 5m\n",
      " \n",
      "Enter any additional notes\n",
      " m\n"
     ]
    },
    {
     "name": "stdout",
     "output_type": "stream",
     "text": [
      "If and when did you exercise and for how long ?\n",
      "    Press Enter if you didn't.\n",
      "    Also enter the total number of reps for legs, core and upper respectively.\n",
      "    Eg:\n",
      "    0300\n",
      "    10m\n",
      "    0 \n",
      "    0\n",
      "    2\n",
      "    \n"
     ]
    },
    {
     "name": "stdin",
     "output_type": "stream",
     "text": [
      " 0\n",
      " 00m\n",
      " 0\n",
      " 0\n",
      " 0\n",
      " \n",
      "Enter any additional notes\n",
      " mb\n"
     ]
    },
    {
     "name": "stdout",
     "output_type": "stream",
     "text": [
      "\n",
      "Well this completes the essentials.\n",
      "Now lets get to the questions Work\n",
      "\n",
      "\n"
     ]
    },
    {
     "data": {
      "text/plain": [
       "{'slpt_at': '1500',\n",
       " 'woke_at': '2000',\n",
       " 'meals': ['0730', '35m'],\n",
       " 'meditate': ['0300', '5m'],\n",
       " 'meditate_notes': 'm',\n",
       " 'exercise': ['0', '00m', '0', '0', '0'],\n",
       " 'exercise_notes': 'mb'}"
      ]
     },
     "execution_count": null,
     "metadata": {},
     "output_type": "execute_result"
    }
   ],
   "source": [
    "essentials()"
   ]
  },
  {
   "cell_type": "code",
   "execution_count": null,
   "metadata": {},
   "outputs": [],
   "source": [
    "#export\n",
    "def work():\n",
    "    print(\"Lets get to tasks\")\n",
    "    print(\"Following is the list of distractions\")\n",
    "    enumerator(distractions)\n",
    "    print(\"Do you want to take on any of them today as tasks?\")\n",
    "    print(\"\\nPress enter if none.\\n\")\n",
    "    task_list = [distractions[index] for index in\n",
    "                  [int(i) for i in multi_input()]]\n",
    "    print('Any other tasks you would like to add?')\n",
    "    task_list += list(multi_input())\n",
    "    return task_list"
   ]
  },
  {
   "cell_type": "code",
   "execution_count": null,
   "metadata": {},
   "outputs": [],
   "source": [
    "#export\n",
    "def estd_time():\n",
    "    return input(\"How much time do you think this would take ?\\n\")"
   ]
  },
  {
   "cell_type": "code",
   "execution_count": null,
   "metadata": {},
   "outputs": [],
   "source": [
    "\n",
    "# print(\"Yesterday following were the tasks you took on to complete\")\n",
    "# print(*tasks, sep='\\n')\n",
    "# # print('\\n'.join(tasks))     can also be used\n"
   ]
  },
  {
   "cell_type": "code",
   "execution_count": null,
   "metadata": {},
   "outputs": [
    {
     "name": "stdin",
     "output_type": "stream",
     "text": [
      " \n"
     ]
    }
   ],
   "source": [
    "\n",
    "a = list(multi_input())\n"
   ]
  },
  {
   "cell_type": "code",
   "execution_count": null,
   "metadata": {},
   "outputs": [
    {
     "name": "stdin",
     "output_type": "stream",
     "text": [
      " \n"
     ]
    }
   ],
   "source": [
    "a += list(multi_input())"
   ]
  },
  {
   "cell_type": "code",
   "execution_count": null,
   "metadata": {},
   "outputs": [
    {
     "data": {
      "text/plain": [
       "[]"
      ]
     },
     "execution_count": null,
     "metadata": {},
     "output_type": "execute_result"
    }
   ],
   "source": [
    "a"
   ]
  },
  {
   "cell_type": "code",
   "execution_count": null,
   "metadata": {},
   "outputs": [
    {
     "name": "stdin",
     "output_type": "stream",
     "text": [
      " \n"
     ]
    }
   ],
   "source": [
    "\n",
    "selections = list(multi_input())"
   ]
  },
  {
   "cell_type": "code",
   "execution_count": null,
   "metadata": {},
   "outputs": [],
   "source": [
    "s = [int(i) for i in selections]\n",
    "numbers = range(10, 16)\n",
    "indices = (1, 1, 2, 1, 5)\n",
    "\n",
    "result = [numbers[i] for i in indices]"
   ]
  },
  {
   "cell_type": "code",
   "execution_count": null,
   "metadata": {},
   "outputs": [
    {
     "name": "stdin",
     "output_type": "stream",
     "text": [
      " \n"
     ]
    },
    {
     "data": {
      "text/plain": [
       "[]"
      ]
     },
     "execution_count": null,
     "metadata": {},
     "output_type": "execute_result"
    }
   ],
   "source": [
    "[distractions[index] for index in \n",
    " [int(i) for i in multi_input()]\n",
    "]"
   ]
  },
  {
   "cell_type": "code",
   "execution_count": null,
   "metadata": {},
   "outputs": [],
   "source": [
    "#export\n",
    "distractions = ['uasnuh','onk','aonusnuh']"
   ]
  },
  {
   "cell_type": "code",
   "execution_count": null,
   "metadata": {},
   "outputs": [],
   "source": [
    "#export"
   ]
  },
  {
   "cell_type": "code",
   "execution_count": null,
   "metadata": {},
   "outputs": [
    {
     "name": "stdout",
     "output_type": "stream",
     "text": [
      "Converted 00_core.ipynb.\n",
      "Converted 01_Tasks.ipynb.\n",
      "Converted 02_questions.ipynb.\n",
      "Converted 03_tests.ipynb.\n",
      "Converted 04_summary image.ipynb.\n",
      "Converted 11_Tasks.ipynb.\n",
      "Converted index.ipynb.\n"
     ]
    }
   ],
   "source": [
    "from nbdev.export import *\n",
    "notebook2script()"
   ]
  },
  {
   "cell_type": "code",
   "execution_count": null,
   "metadata": {},
   "outputs": [
    {
     "name": "stdout",
     "output_type": "stream",
     "text": [
      "\n",
      "Welcome to Python 3.7's help utility!\n",
      "\n",
      "If this is your first time using Python, you should definitely check out\n",
      "the tutorial on the Internet at https://docs.python.org/3.7/tutorial/.\n",
      "\n",
      "Enter the name of any module, keyword, or topic to get help on writing\n",
      "Python programs and using Python modules.  To quit this help utility and\n",
      "return to the interpreter, just type \"quit\".\n",
      "\n",
      "To get a list of available modules, keywords, symbols, or topics, type\n",
      "\"modules\", \"keywords\", \"symbols\", or \"topics\".  Each module also comes\n",
      "with a one-line summary of what it does; to list the modules whose name\n",
      "or summary contain a given string such as \"spam\", type \"modules spam\".\n",
      "\n"
     ]
    },
    {
     "name": "stdin",
     "output_type": "stream",
     "text": [
      "help>  \n"
     ]
    },
    {
     "name": "stdout",
     "output_type": "stream",
     "text": [
      "\n",
      "You are now leaving help and returning to the Python interpreter.\n",
      "If you want to ask for help on a particular object directly from the\n",
      "interpreter, you can type \"help(object)\".  Executing \"help('string')\"\n",
      "has the same effect as typing a particular string at the help> prompt.\n"
     ]
    }
   ],
   "source": [
    "help()\n"
   ]
  }
 ],
 "metadata": {
  "kernelspec": {
   "display_name": "Python 3",
   "language": "python",
   "name": "python3"
  }
 },
 "nbformat": 4,
 "nbformat_minor": 4
}
