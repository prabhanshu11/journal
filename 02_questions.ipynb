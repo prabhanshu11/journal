{
 "cells": [
  {
   "cell_type": "code",
   "execution_count": null,
   "metadata": {},
   "outputs": [],
   "source": [
    "# default_exp questions"
   ]
  },
  {
   "cell_type": "code",
   "execution_count": null,
   "metadata": {},
   "outputs": [],
   "source": [
    "#hide\n",
    "from nbdev.showdoc import *"
   ]
  },
  {
   "cell_type": "code",
   "execution_count": null,
   "metadata": {},
   "outputs": [],
   "source": [
    "#export\n",
    "import sys\n",
    "from os import system, name "
   ]
  },
  {
   "cell_type": "code",
   "execution_count": null,
   "metadata": {},
   "outputs": [],
   "source": [
    "#export\n",
    "def multi_input():\n",
    "    try:\n",
    "        while True:\n",
    "            data=input()\n",
    "            if not data: break\n",
    "            yield data\n",
    "    except KeyboardInterrupt:\n",
    "        return\n",
    "\n",
    "#use list(multi_input)\n",
    "\n",
    "def clear_screen(): \n",
    "  \n",
    "    # for windows \n",
    "    if name == 'nt': \n",
    "        _ = system('cls') \n",
    "  \n",
    "    # for mac and linux(here, os.name is 'posix') \n",
    "    else: \n",
    "        _ = system('clear') \n",
    "\n",
    "def enumerator(l: 'list of str'):\n",
    "    for index, item in enumerate(l):\n",
    "        print(f'[{index}] {item.capitalize()}')\n",
    "    "
   ]
  },
  {
   "cell_type": "code",
   "execution_count": null,
   "metadata": {},
   "outputs": [],
   "source": [
    "#export\n",
    "def essentials():\n",
    "    #introduction\n",
    "    print(\n",
    "        \"\"\" \n",
    "    Fill this up to hopeless fuck !!\n",
    "    Take care of the following instructions, don't screw this up !\n",
    "    Time in 24hr format. Eg: '1500' for 03:00 PM\n",
    "    Duration in <Number><identifier>. Eg: '35m', '5h', '4d'\n",
    "        \"\"\"\n",
    "         )\n",
    "    \n",
    "    # Q 1 Sleep\n",
    "    slpt_at = input(\"When did you sleep ?\\n\")\n",
    "    woke_at = input(\"When did you wake up ?\\n\")\n",
    "    \n",
    "    # Q 2 Food\n",
    "    print(\"\"\"When did you take your meals and for how long ?\n",
    "    Include the timepass you did after eating.\n",
    "    Eg:\n",
    "    0730\n",
    "    35m\n",
    "    1600\n",
    "    1h\n",
    "    \"\"\")\n",
    "    meals = list(multi_input())\n",
    "    \n",
    "    # Q 3 Mind\n",
    "    print(\"\"\"If and when did you meditate and for how long ?\n",
    "    Press Enter if you didn't meditate. You can add an entry\n",
    "    if you are going to meditate right now, but add it only\n",
    "    after the session is over.\n",
    "    Eg:\n",
    "    0300\n",
    "    10m\n",
    "    \"\"\")\n",
    "    mditate = list(multi_input())\n",
    "    # add if required: mditate.append(input(\"On a scale of 1-10 . . .  \\n\")) \n",
    "    mditate.append(input(\"Enter any additional notes\\n\")) \n",
    "    \n",
    "    # Q 4 Body\n",
    "    print(\"\"\"If and when did you exercise and for how long ?\n",
    "    Press Enter if you didn't.\n",
    "    Also enter the total number of reps for legs, core and upper respectively.\n",
    "    Eg:\n",
    "    0300\n",
    "    10m\n",
    "    0 \n",
    "    0\n",
    "    2\n",
    "    \"\"\")\n",
    "    exrcise = list(multi_input())\n",
    "    exrcise.append(input(\"Enter any additional notes\\n\"))\n",
    "    \n",
    "    clear_screen()\n",
    "    print('\\nWell this completes the essentials.')\n",
    "    print('Now lets get to the questions Work\\n\\n')\n",
    "    \n",
    "    return slpt_at, woke_at, meals, mditate, exrcise"
   ]
  },
  {
   "cell_type": "code",
   "execution_count": null,
   "metadata": {},
   "outputs": [
    {
     "name": "stdout",
     "output_type": "stream",
     "text": [
      "\n",
      "Well this completes the essentials.\n",
      "Now lets get to the questions about Deep Work\n",
      "\n",
      "\n"
     ]
    }
   ],
   "source": [
    "#export\n",
    "clear_screen()\n",
    "print('\\nWell this completes the essentials.')\n",
    "print('Now lets get to the questions about Deep Work\\n\\n')"
   ]
  },
  {
   "cell_type": "code",
   "execution_count": null,
   "metadata": {},
   "outputs": [],
   "source": [
    "#export\n",
    "def work():\n",
    "    print(\"Lets get to tasks\")\n",
    "    print(\"Following is the list of distractions\")\n",
    "    enumerator(distractions)\n",
    "    print(\"Do you want to take on any of them today as tasks?\")\n",
    "    print(\"\\nPress enter if none.\\n\")\n",
    "    task_list = [distractions[index] for index in\n",
    "                  [int(i) for i in multi_input()]]\n",
    "    print('Any other tasks you would like to add?')\n",
    "    task_list += list(multi_input())\n",
    "    "
   ]
  },
  {
   "cell_type": "code",
   "execution_count": null,
   "metadata": {},
   "outputs": [],
   "source": [
    "#export\n",
    "# print(\"Yesterday following were the tasks you took on to complete\")\n",
    "# print(*tasks, sep='\\n')\n",
    "# # print('\\n'.join(tasks))     can also be used\n"
   ]
  },
  {
   "cell_type": "code",
   "execution_count": null,
   "metadata": {},
   "outputs": [
    {
     "name": "stdin",
     "output_type": "stream",
     "text": [
      " 4\n",
      " 4\n",
      " au\n",
      " \n"
     ]
    }
   ],
   "source": [
    "#export\n",
    "a = list(multi_input())\n"
   ]
  },
  {
   "cell_type": "code",
   "execution_count": null,
   "metadata": {},
   "outputs": [
    {
     "name": "stdin",
     "output_type": "stream",
     "text": [
      " 4\n",
      " 1\n",
      " 1\n",
      " \n"
     ]
    }
   ],
   "source": [
    "a += list(multi_input())"
   ]
  },
  {
   "cell_type": "code",
   "execution_count": null,
   "metadata": {},
   "outputs": [
    {
     "data": {
      "text/plain": [
       "['4', '4', 'au', '4', '1', '1']"
      ]
     },
     "execution_count": null,
     "metadata": {},
     "output_type": "execute_result"
    }
   ],
   "source": [
    "a"
   ]
  },
  {
   "cell_type": "code",
   "execution_count": null,
   "metadata": {},
   "outputs": [
    {
     "name": "stdin",
     "output_type": "stream",
     "text": [
      " 1\n",
      " 2\n",
      " \n"
     ]
    }
   ],
   "source": [
    "#export\n",
    "selections = list(multi_input())"
   ]
  },
  {
   "cell_type": "code",
   "execution_count": null,
   "metadata": {},
   "outputs": [
    {
     "data": {
      "text/plain": [
       "[1, 2]"
      ]
     },
     "execution_count": null,
     "metadata": {},
     "output_type": "execute_result"
    }
   ],
   "source": [
    "s = [int(i) for i in selections]\n",
    "numbers = range(10, 16)\n",
    "indices = (1, 1, 2, 1, 5)\n",
    "\n",
    "result = [numbers[i] for i in indices]"
   ]
  },
  {
   "cell_type": "code",
   "execution_count": null,
   "metadata": {},
   "outputs": [
    {
     "name": "stdin",
     "output_type": "stream",
     "text": [
      " 0\n",
      " 1\n",
      " \n"
     ]
    },
    {
     "data": {
      "text/plain": [
       "['uasnuh', 'onk']"
      ]
     },
     "execution_count": null,
     "metadata": {},
     "output_type": "execute_result"
    }
   ],
   "source": [
    "[distractions[index] for index in \n",
    " [int(i) for i in multi_input()]\n",
    "]"
   ]
  },
  {
   "cell_type": "code",
   "execution_count": null,
   "metadata": {},
   "outputs": [],
   "source": [
    "#export\n",
    "distractions = ['uasnuh','onk','aonusnuh']"
   ]
  },
  {
   "cell_type": "code",
   "execution_count": null,
   "metadata": {},
   "outputs": [],
   "source": [
    "#export"
   ]
  },
  {
   "cell_type": "code",
   "execution_count": null,
   "metadata": {},
   "outputs": [
    {
     "name": "stdout",
     "output_type": "stream",
     "text": [
      "Converted 00_core.ipynb.\n",
      "Converted 01_Tasks.ipynb.\n",
      "Converted 03_tests.ipynb.\n",
      "Converted index.ipynb.\n",
      "Converted questions.ipynb.\n"
     ]
    }
   ],
   "source": [
    "from nbdev.export import *\n",
    "notebook2script()"
   ]
  },
  {
   "cell_type": "code",
   "execution_count": null,
   "metadata": {},
   "outputs": [],
   "source": []
  }
 ],
 "metadata": {
  "kernelspec": {
   "display_name": "Python 3",
   "language": "python",
   "name": "python3"
  }
 },
 "nbformat": 4,
 "nbformat_minor": 4
}
