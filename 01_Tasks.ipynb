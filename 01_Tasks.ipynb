{
 "cells": [
  {
   "cell_type": "code",
   "execution_count": null,
   "metadata": {},
   "outputs": [],
   "source": [
    "# default_exp tasks"
   ]
  },
  {
   "cell_type": "code",
   "execution_count": null,
   "metadata": {},
   "outputs": [],
   "source": [
    "#hide\n",
    "from nbdev.showdoc import *"
   ]
  },
  {
   "cell_type": "code",
   "execution_count": null,
   "metadata": {},
   "outputs": [],
   "source": [
    "#export \n",
    "from collections import namedtuple\n",
    "from datetime import datetime, date, time, timedelta\n",
    "import re\n",
    "properties = ['task',\n",
    "              'Estd_Time',\n",
    "              'Strt_Date',\n",
    "              'Time_Takn',\n",
    "              'Comp_Date',\n",
    "              'Satsfactn',\n",
    "              'completed']\n",
    "defaults = ['?']*(len(properties)-1)\n",
    "defaults[-1] = 0 #default for 'completed' is to be 0\n",
    "Task = namedtuple('Task', properties, defaults=defaults)"
   ]
  },
  {
   "cell_type": "markdown",
   "metadata": {},
   "source": [
    "- TODO \n",
    "- [ ] Start_Date: today's date or scheduled date of the form 'dd/mm/yy' or 'tomorrow'\n",
    "- [ ] Time_takn: str of the form '12m'\n",
    "- [ ] Implement python-dateutil library to better parse dates and support for months, years etc for timedelta"
   ]
  },
  {
   "cell_type": "code",
   "execution_count": null,
   "metadata": {},
   "outputs": [],
   "source": [
    "#export\n",
    "args_map = {'d':'days',\n",
    "             'h':'hours',\n",
    "             'w':'weeks',\n",
    "             'm':'minutes'}\n",
    "\n",
    "def str2timeDelta(string):\n",
    "    \n",
    "    pattern = re.compile(r\"\"\"\n",
    "    (\\d+\\.*\\d*) #Any real numbers >> Digit decimal digit(optional)\n",
    "    \\s? #To handle space\n",
    "    ([hmsdw][o]?)  # any of h, m... o is to diff b/w m[in] and m[onth]\n",
    "    \"\"\", re.VERBOSE)                         #remember to add functionality for month later\n",
    "    args_as_tuples_in_list = re.findall(pattern, string)\n",
    "    args = {args_map.get(arg_tuple[1]) : float(arg_tuple[0]) \n",
    "                for arg_tuple in args_as_tuples_in_list}\n",
    "    return timedelta(**args)"
   ]
  },
  {
   "cell_type": "code",
   "execution_count": null,
   "metadata": {},
   "outputs": [],
   "source": [
    "#export \n",
    "def task_scheduler(s: 'string of task'):\n",
    "    \"\"\"\n",
    "    Asks the user the date on which selected string is to be added to the \"today's task list\"\n",
    "    then creates and returns a Task object with Strt_Date field as that date.    \n",
    "    \"\"\"\n",
    "    print(s)\n",
    "    scheduled_task = Task(s)\n",
    "    print(f\"When should be this on your task list. \\n\")\n",
    "    print(f\"Enter 'y' to add it on today's list. Today is {date.today()}\")\n",
    "    print(f\"You can enter the date in the format of today's date printed above.\")\n",
    "    print(f'Or you can answer in relative terms. Eg: 10w, 5d (only weeks and days supported)')\n",
    "    date_string = input()\n",
    "    pattern_for_isodate = re.compile(r'\\d{4}-\\d{2}-\\d{2}')\n",
    "    \n",
    "    if 'y' in date_string: \n",
    "        scheduled_task = scheduled_task._replace(\n",
    "            Strt_Date = date.today())  \n",
    "        \n",
    "    elif re.match(pattern_for_isodate, date_string): \n",
    "        scheduled_task = scheduled_task._replace(\n",
    "            Strt_Date = date.fromisoformat(date_string))\n",
    "        \n",
    "    else: \n",
    "        scheduled_task = scheduled_task._replace(\n",
    "            Strt_Date = date.today() + str2timeDelta(date_string))\n",
    "        \n",
    "    return scheduled_task"
   ]
  },
  {
   "cell_type": "code",
   "execution_count": null,
   "metadata": {},
   "outputs": [],
   "source": [
    "#export\n",
    "def estimated_time(task_tuple):\n",
    "    print(f'How much time do you think this would take ?')\n",
    "    t = input(\"Eg: '45m', '1h'\")\n",
    "    task_tuple = task_tuple._replace( Estd_Time = str2timeDelta(t) )\n",
    "    return task_tuple\n",
    "\n",
    "def actual_time(task_tuple):\n",
    "    print(f'You thought you would take {task_tuple.Estd_Time}. How much time did you actually take ?')\n",
    "    t = input(\"Eg: '45m', '1h'\")\n",
    "    task_tuple = task_tuple._replace( Time_Takn = str2timeDelta(t) )\n",
    "    return task_tuple\n",
    "\n",
    "def satisfaction(task_tuple):\n",
    "    print(\"On a scale of 1-10, how much satisfied do you about the effort you put into this task ?\")\n",
    "    s = float(input())\n",
    "    task_tuple = task_tuple._replace( Satsfactn = s)\n",
    "    if task_tuple.completed == 1: \n",
    "        task_tuple = task_tuple._replace( CompDate = date.today() ) \n",
    "    return task_tuple\n"
   ]
  },
  {
   "cell_type": "code",
   "execution_count": null,
   "metadata": {},
   "outputs": [
    {
     "name": "stdout",
     "output_type": "stream",
     "text": [
      "Check Hacker Rank website\n",
      "When should be this on your task list. \n",
      "\n",
      "Enter 'y' to add it on today's list. Today is 2020-06-07\n",
      "You can enter the date in the format of today's date printed above.\n",
      "Or you can answer in relative terms. Eg: 10w, 5d (only weeks and days supported)\n"
     ]
    },
    {
     "name": "stdin",
     "output_type": "stream",
     "text": [
      " \n"
     ]
    },
    {
     "data": {
      "text/plain": [
       "Task(task='Check Hacker Rank website', Estd_Time='?', Strt_Date=datetime.date(2020, 6, 7), Time_Takn='?', Comp_Date='?', Satsfactn='?', completed=0)"
      ]
     },
     "execution_count": null,
     "metadata": {},
     "output_type": "execute_result"
    }
   ],
   "source": [
    "task_scheduler('Check Hacker Rank website') #something is wrong.. check this.."
   ]
  },
  {
   "cell_type": "code",
   "execution_count": null,
   "metadata": {},
   "outputs": [
    {
     "name": "stdout",
     "output_type": "stream",
     "text": [
      "Converted 00_core.ipynb.\n",
      "Converted 01_Tasks.ipynb.\n",
      "Converted 02_questions.ipynb.\n",
      "Converted 03_tests.ipynb.\n",
      "Converted 04_summary image.ipynb.\n",
      "Converted 11_Tasks.ipynb.\n",
      "Converted index.ipynb.\n"
     ]
    }
   ],
   "source": [
    "from nbdev.export import *\n",
    "notebook2script()"
   ]
  },
  {
   "cell_type": "code",
   "execution_count": null,
   "metadata": {},
   "outputs": [
    {
     "data": {
      "text/plain": [
       "\u001b[0;31mInit signature:\u001b[0m \u001b[0mtimedelta\u001b[0m\u001b[0;34m(\u001b[0m\u001b[0mself\u001b[0m\u001b[0;34m,\u001b[0m \u001b[0;34m/\u001b[0m\u001b[0;34m,\u001b[0m \u001b[0;34m*\u001b[0m\u001b[0margs\u001b[0m\u001b[0;34m,\u001b[0m \u001b[0;34m**\u001b[0m\u001b[0mkwargs\u001b[0m\u001b[0;34m)\u001b[0m\u001b[0;34m\u001b[0m\u001b[0;34m\u001b[0m\u001b[0m\n",
       "\u001b[0;31mDocstring:\u001b[0m     \n",
       "Difference between two datetime values.\n",
       "\n",
       "timedelta(days=0, seconds=0, microseconds=0, milliseconds=0, minutes=0, hours=0, weeks=0)\n",
       "\n",
       "All arguments are optional and default to 0.\n",
       "Arguments may be integers or floats, and may be positive or negative.\n",
       "\u001b[0;31mFile:\u001b[0m           ~/anaconda3/lib/python3.7/datetime.py\n",
       "\u001b[0;31mType:\u001b[0m           type\n",
       "\u001b[0;31mSubclasses:\u001b[0m     \n"
      ]
     },
     "metadata": {},
     "output_type": "display_data"
    }
   ],
   "source": [
    "timedelta?"
   ]
  },
  {
   "cell_type": "code",
   "execution_count": null,
   "metadata": {},
   "outputs": [],
   "source": [
    "date_string = f'{date.today()}'"
   ]
  },
  {
   "cell_type": "code",
   "execution_count": null,
   "metadata": {},
   "outputs": [
    {
     "data": {
      "text/plain": [
       "2"
      ]
     },
     "execution_count": null,
     "metadata": {},
     "output_type": "execute_result"
    }
   ],
   "source": [
    "date_string.count('-')"
   ]
  },
  {
   "cell_type": "code",
   "execution_count": null,
   "metadata": {},
   "outputs": [],
   "source": [
    "names = ['raymond', 'rachel', 'matthew']\n",
    "colors = ['red', 'green', 'blue','red', 'green', 'red']\n",
    "d = {}\n",
    "for color in colors:\n",
    "    d[color] = d.get(color, 0) + 1\n"
   ]
  },
  {
   "cell_type": "code",
   "execution_count": null,
   "metadata": {},
   "outputs": [
    {
     "data": {
      "text/plain": [
       "1000000000"
      ]
     },
     "execution_count": null,
     "metadata": {},
     "output_type": "execute_result"
    }
   ],
   "source": [
    "1000**3"
   ]
  }
 ],
 "metadata": {
  "kernelspec": {
   "display_name": "Python 3",
   "language": "python",
   "name": "python3"
  }
 },
 "nbformat": 4,
 "nbformat_minor": 4
}
