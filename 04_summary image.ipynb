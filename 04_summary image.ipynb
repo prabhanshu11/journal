{
 "cells": [
  {
   "cell_type": "markdown",
   "metadata": {},
   "source": [
    "`(xdpyinfo | grep dimensions)` reveals \n",
    "\n",
    "Resolution: 2560×1440    Size: 602×341mm "
   ]
  },
  {
   "cell_type": "code",
   "execution_count": null,
   "metadata": {},
   "outputs": [],
   "source": [
    "# default_exp summary_image"
   ]
  },
  {
   "cell_type": "code",
   "execution_count": null,
   "metadata": {},
   "outputs": [
    {
     "ename": "ModuleNotFoundError",
     "evalue": "No module named 'nbdev'",
     "output_type": "error",
     "traceback": [
      "\u001b[1;31m---------------------------------------------------------------------------\u001b[0m",
      "\u001b[1;31mModuleNotFoundError\u001b[0m                       Traceback (most recent call last)",
      "\u001b[1;32m<ipython-input-2-983cbbe9abda>\u001b[0m in \u001b[0;36m<module>\u001b[1;34m\u001b[0m\n\u001b[0;32m      1\u001b[0m \u001b[1;31m#hide\u001b[0m\u001b[1;33m\u001b[0m\u001b[1;33m\u001b[0m\u001b[1;33m\u001b[0m\u001b[0m\n\u001b[1;32m----> 2\u001b[1;33m \u001b[1;32mfrom\u001b[0m \u001b[0mnbdev\u001b[0m\u001b[1;33m.\u001b[0m\u001b[0mshowdoc\u001b[0m \u001b[1;32mimport\u001b[0m \u001b[1;33m*\u001b[0m\u001b[1;33m\u001b[0m\u001b[1;33m\u001b[0m\u001b[0m\n\u001b[0m",
      "\u001b[1;31mModuleNotFoundError\u001b[0m: No module named 'nbdev'"
     ]
    }
   ],
   "source": [
    "#hide\n",
    "from nbdev.showdoc import *"
   ]
  },
  {
   "cell_type": "code",
   "execution_count": null,
   "metadata": {},
   "outputs": [
    {
     "ename": "NameError",
     "evalue": "name 'distractions' is not defined",
     "output_type": "error",
     "traceback": [
      "\u001b[1;31m---------------------------------------------------------------------------\u001b[0m",
      "\u001b[1;31mNameError\u001b[0m                                 Traceback (most recent call last)",
      "\u001b[1;32m<ipython-input-3-76a7cd3aff70>\u001b[0m in \u001b[0;36m<module>\u001b[1;34m\u001b[0m\n\u001b[0;32m     27\u001b[0m     \u001b[1;32mreturn\u001b[0m \u001b[0my\u001b[0m\u001b[1;33m\u001b[0m\u001b[1;33m\u001b[0m\u001b[0m\n\u001b[0;32m     28\u001b[0m \u001b[1;33m\u001b[0m\u001b[0m\n\u001b[1;32m---> 29\u001b[1;33m \u001b[0mdistraction_box\u001b[0m \u001b[1;33m=\u001b[0m \u001b[0mtext_box\u001b[0m\u001b[1;33m(\u001b[0m\u001b[1;36m7\u001b[0m\u001b[1;33m,\u001b[0m\u001b[1;36m15\u001b[0m\u001b[1;33m,\u001b[0m\u001b[1;34m\"Distractions\"\u001b[0m\u001b[1;33m,\u001b[0m \u001b[0mdistractions\u001b[0m\u001b[1;33m,\u001b[0m \u001b[0mwidth\u001b[0m\u001b[1;33m=\u001b[0m\u001b[1;36m45\u001b[0m\u001b[1;33m,\u001b[0m \u001b[0mfont_size\u001b[0m\u001b[1;33m=\u001b[0m\u001b[1;36m10\u001b[0m\u001b[1;33m)\u001b[0m\u001b[1;33m\u001b[0m\u001b[1;33m\u001b[0m\u001b[0m\n\u001b[0m",
      "\u001b[1;31mNameError\u001b[0m: name 'distractions' is not defined"
     ]
    }
   ],
   "source": [
    "def mm2px(mm):\n",
    "    return int(2560/592*mm) #by trail-n-error using a ruler\n",
    "\n",
    "def tex_t(ctx, x, y, font_size, text):\n",
    "    adjusted_font = font_size/5.683 #Derived from trial-n-error but 1440×341/864 = 568.3\n",
    "    ctx.select_font_face(\"Noto\", cairo.FontSlant.NORMAL, cairo.FontWeight.NORMAL)\n",
    "    ctx.set_font_size(adjusted_font)\n",
    "    ctx.move_to(x,y)\n",
    "    ctx.show_text(text)\n",
    "\n",
    "def normal_text(x,y,text):\n",
    "    return tex_t(ctx, x, y, 5, text)\n",
    "# Create a text box which has a title, takes a list of string, then dispays those elements as bulleted\n",
    "# points with a set amount of space. Also width constraints, so the text is wrapped after certain width.\n",
    "def text_box(x, y, title, tasks, width, font_size):\n",
    "    x, y = x, y\n",
    "    title_size = font_size + 8\n",
    "    tex_t(ctx, x-2, y, title_size, title)\n",
    "    y += 5\n",
    "    wrap = lambda text: textwrap.wrap(text, width=width, \n",
    "                                      initial_indent=\"\\u2022 \", #bullet\n",
    "                                      subsequent_indent=\"   \")\n",
    "    for i in tasks:\n",
    "        for j, each_line in enumerate(wrap(i)):\n",
    "            tex_t(ctx, x-3, y+j*3, font_size = 10, text=each_line)\n",
    "        y+=3+j*3\n",
    "    return y\n",
    "\n",
    "distraction_box = text_box(7,15,\"Distractions\", distractions, width=45, font_size=10)\n"
   ]
  },
  {
   "cell_type": "code",
   "execution_count": null,
   "metadata": {},
   "outputs": [
    {
     "data": {
      "text/plain": [
       "'×'"
      ]
     },
     "execution_count": null,
     "metadata": {},
     "output_type": "execute_result"
    }
   ],
   "source": [
    "distractions = ['The bullet symbol may take any of a variety of shapes',\n",
    "                'Such as circular, square, diamond or arrow.',\n",
    "                'Lists made with bullets are called bulleted lists. The HTML element name for a bulleted list is unordered list ',\n",
    "                #'12345678901234567890123456789012345678901234567890'\n",
    "               ]\n",
    "f'\\u00d7'"
   ]
  },
  {
   "cell_type": "code",
   "execution_count": null,
   "metadata": {},
   "outputs": [
    {
     "ename": "ModuleNotFoundError",
     "evalue": "No module named 'cairo'",
     "output_type": "error",
     "traceback": [
      "\u001b[1;31m---------------------------------------------------------------------------\u001b[0m",
      "\u001b[1;31mModuleNotFoundError\u001b[0m                       Traceback (most recent call last)",
      "\u001b[1;32m<ipython-input-5-d4c3a954f576>\u001b[0m in \u001b[0;36m<module>\u001b[1;34m\u001b[0m\n\u001b[0;32m      1\u001b[0m \u001b[1;32mimport\u001b[0m \u001b[0mtextwrap\u001b[0m\u001b[1;33m\u001b[0m\u001b[1;33m\u001b[0m\u001b[0m\n\u001b[0;32m      2\u001b[0m \u001b[1;32mfrom\u001b[0m \u001b[0mmath\u001b[0m \u001b[1;32mimport\u001b[0m \u001b[0mpi\u001b[0m\u001b[1;33m,\u001b[0m \u001b[0mceil\u001b[0m\u001b[1;33m\u001b[0m\u001b[1;33m\u001b[0m\u001b[0m\n\u001b[1;32m----> 3\u001b[1;33m \u001b[1;32mimport\u001b[0m \u001b[0mcairo\u001b[0m\u001b[1;33m\u001b[0m\u001b[1;33m\u001b[0m\u001b[0m\n\u001b[0m\u001b[0;32m      4\u001b[0m \u001b[0mWIDTH\u001b[0m\u001b[1;33m,\u001b[0m \u001b[0mHEIGHT\u001b[0m \u001b[1;33m=\u001b[0m \u001b[1;36m200\u001b[0m\u001b[1;33m,\u001b[0m \u001b[1;36m200\u001b[0m \u001b[1;31m#mm\u001b[0m\u001b[1;33m\u001b[0m\u001b[1;33m\u001b[0m\u001b[0m\n\u001b[0;32m      5\u001b[0m \u001b[0mpx_width\u001b[0m\u001b[1;33m,\u001b[0m \u001b[0mpx_height\u001b[0m \u001b[1;33m=\u001b[0m \u001b[0mmm2px\u001b[0m\u001b[1;33m(\u001b[0m\u001b[0mWIDTH\u001b[0m\u001b[1;33m)\u001b[0m\u001b[1;33m,\u001b[0m \u001b[0mmm2px\u001b[0m\u001b[1;33m(\u001b[0m\u001b[0mHEIGHT\u001b[0m\u001b[1;33m)\u001b[0m\u001b[1;33m\u001b[0m\u001b[1;33m\u001b[0m\u001b[0m\n",
      "\u001b[1;31mModuleNotFoundError\u001b[0m: No module named 'cairo'"
     ]
    }
   ],
   "source": [
    "import textwrap\n",
    "from math import pi, ceil\n",
    "import cairo\n",
    "WIDTH, HEIGHT = 200, 200 #mm\n",
    "px_width, px_height = mm2px(WIDTH), mm2px(HEIGHT)\n",
    "convinient_scale = 100\n",
    "surface = cairo.ImageSurface(cairo.FORMAT_ARGB32, px_width, px_height)\n",
    "ctx = cairo.Context(surface)\n",
    "ctx.scale(px_width/convinient_scale, px_height/convinient_scale*(WIDTH/HEIGHT))\n",
    "ctx.set_source_rgba(0,0,0,0.7)\n",
    "\n",
    "#Line settings\n",
    "ctx.set_line_width(0.30)\n",
    "ctx.set_line_join(cairo.LineJoin.ROUND)\n",
    "ctx.rectangle(0.5,0.5,99,99)\n",
    "ctx.stroke()\n",
    "\n",
    "\n",
    "#tex_t(ctx, 25, 75,font_size=54, text=\"HH\") \n",
    "\n",
    "# Text Boxes\n",
    "distraction_box = text_box(7,15,\"Distractions\", distractions, width=45, font_size=10)\n",
    "todo_box = text_box(55,15,\"Today's tasks\", distractions[::-1], width=45, font_size=10)\n",
    "\n",
    "# Lines\n",
    "ctx.move_to(50,10) #line start\n",
    "ctx.set_line_width(0.3)\n",
    "ctx.set_line_cap(cairo.LineJoin.ROUND)\n",
    "ctx.line_to(50,todo_box) #line end\n",
    "ctx.stroke()\n",
    "\n",
    "surface.write_to_png(\"example.png\")  # Output to PNG\n",
    "\n",
    "from IPython.display import Image\n",
    "cairo.FontOptions()\n",
    "Image(filename='example.png',retina=True\n",
    "     ) #retina makes image display size to half"
   ]
  },
  {
   "cell_type": "code",
   "execution_count": null,
   "metadata": {},
   "outputs": [
    {
     "data": {
      "text/plain": [
       "['Lists made with bullets are called bulleted lists. The HTML element name for a bulleted list is unordered list ',\n",
       " 'Such as circular, square, diamond or arrow.',\n",
       " 'The bullet symbol may take any of a variety of shapes']"
      ]
     },
     "execution_count": null,
     "metadata": {},
     "output_type": "execute_result"
    }
   ],
   "source": [
    "distractions[::-1]"
   ]
  },
  {
   "cell_type": "code",
   "execution_count": null,
   "metadata": {},
   "outputs": [
    {
     "data": {
      "text/plain": [
       "int"
      ]
     },
     "execution_count": null,
     "metadata": {},
     "output_type": "execute_result"
    }
   ],
   "source": []
  }
 ],
 "metadata": {
  "kernelspec": {
   "display_name": "Python 3",
   "language": "python",
   "name": "python3"
  }
 },
 "nbformat": 4,
 "nbformat_minor": 4
}
